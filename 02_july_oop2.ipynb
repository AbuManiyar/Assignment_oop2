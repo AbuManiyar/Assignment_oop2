{
  "nbformat": 4,
  "nbformat_minor": 0,
  "metadata": {
    "colab": {
      "provenance": []
    },
    "kernelspec": {
      "name": "python3",
      "display_name": "Python 3"
    },
    "language_info": {
      "name": "python"
    }
  },
  "cells": [
    {
      "cell_type": "markdown",
      "source": [
        "\n",
        "## 1. Explain what inheritance is in object-oriented programming and why it is used.\n",
        "Ans: Inheritence is the property of a class that makes it capable of accessing the methods and attributes of its parent class. Instead of re-writing completely a new class we just pass a parent class within parenthesis after name of the class.\n",
        "Ex: class Child(Father):\n",
        "In this case Child inherits the properties of Father Class.\n",
        "Child class is known as derived class.\n",
        "\n",
        "## 2. Discuss the concept of single inheritance and multiple inheritance, highlighting their differences and advantages.\n",
        "Ans:Single inheritance is said when we pass only one class within parenthesis of derived class.\n",
        "Ex: class Pet(Animal):\n",
        "\n",
        "On the other hand multiple inheritance is said when we derive properties of derived class from more than one class. Such classes have access to all the properties(attributes, methods) of the classes passed into it.\n",
        "Ex: class MobilePhone(Product, Service):\n",
        "\n",
        "Differences: Single inheritance has only one parent class. We can only access properties of that only one class.\n",
        "Multiple inheritance refers to having base classes more than one. We can access properties of more than one class.\n",
        "\n",
        "Advantages: Single inheritance is easy.\n",
        "Multiple inheritance has more access.\n",
        "\n",
        "\n",
        "##3. Explain the terms \"base class\" and \"derived class\" in the context of inheritance.\n",
        "Ans: Base class is that class whose propreties will be utilised in some other class and base class acts as parent to those classes.\n",
        "Derived classes are the classes that utilise to properties of the base or parent class.\n",
        "\n",
        "\n",
        "##4. What is the significance of the \"protected\" access modifier in inheritance? How does it differ from \"private\" and \"public\" modifiers?\n",
        "Ans:\n",
        "The importance of protected access modifier is that we can able to access them directly outside the class they have \"_\" single underscore as prefix to there name. This is a convention and it tells the the user that this part of the programm not recomended. On the otherhand we have private\n",
        "modifiers with \"__\" at the start of there name and they cannot be accessed outside the class this makes abstraction possible. The last type we are left with is public access modifiers and these can be accessed from anywhere outside the class and can be manipulated. This was in breif about public, private and protected access modifiers.\n",
        "\n",
        "##5. What is the purpose of the \"super\" keyword in inheritance? Provide an example.\n",
        "Ans:\n",
        "When we want to access the attributes and methods of the parent class we use the super() keyword before accessing them. An example could be as follows\n"
      ],
      "metadata": {
        "id": "uisPIffoaWYH"
      }
    },
    {
      "cell_type": "code",
      "source": [
        "\n",
        "class Person:\n",
        "  def __init__(self, name):\n",
        "    self.name = name\n",
        "\n",
        "class Student(Person):\n",
        "  def __init__(self, name, grade):\n",
        "    super().__init__(name)   #super() is used to refer to parent class\n",
        "    self.grade = grade\n",
        "\n"
      ],
      "metadata": {
        "id": "G2nKMjkxnlhR"
      },
      "execution_count": 8,
      "outputs": []
    },
    {
      "cell_type": "markdown",
      "source": [
        "\n",
        "###Question 6.\n",
        " Create a base class called \"Vehicle\" with attributes like \"make\", \"model\", and \"year\".\n",
        "Then, create a derived class called \"Car\" that inherits from \"Vehicle\" and adds an attribute called \"fuel_type\". Implement appropriate methods in both classes."
      ],
      "metadata": {
        "id": "OJlh2RfHx8gQ"
      }
    },
    {
      "cell_type": "code",
      "source": [
        "class Vehicle:\n",
        "  def __init__(self, make, model, year):\n",
        "    self.make = make\n",
        "    self.model = model\n",
        "    self.year = year\n",
        "\n",
        "  def info(self):\n",
        "    print(f\"{self.make} launched model {self.model} in year {self.year}\")\n",
        "\n",
        "\n",
        "class Car(Vehicle):\n",
        "  def __init__(self, make, model, year, fuel_type):\n",
        "    super().__init__(make, model, year)\n",
        "    self.fuel_type = fuel_type\n",
        "\n",
        "  def start(self):\n",
        "    print(f\"{self.make} {self.model} is Starting\")\n",
        ""
      ],
      "metadata": {
        "id": "EisfU6bexrOa"
      },
      "execution_count": 20,
      "outputs": []
    },
    {
      "cell_type": "code",
      "source": [
        "c1 = Car(\"Honda\", \"City\", 2015, \"Petrol\")"
      ],
      "metadata": {
        "id": "CRoClMxl0wMF"
      },
      "execution_count": 21,
      "outputs": []
    },
    {
      "cell_type": "code",
      "source": [
        "c1.info()"
      ],
      "metadata": {
        "colab": {
          "base_uri": "https://localhost:8080/"
        },
        "id": "6dMnozE31quR",
        "outputId": "2ea2b340-76c8-4128-a714-2401b7c141f7"
      },
      "execution_count": 22,
      "outputs": [
        {
          "output_type": "stream",
          "name": "stdout",
          "text": [
            "Honda launched model City in year 2015\n"
          ]
        }
      ]
    },
    {
      "cell_type": "code",
      "source": [
        "c1.start()"
      ],
      "metadata": {
        "colab": {
          "base_uri": "https://localhost:8080/"
        },
        "id": "w4KTtKKr1tsc",
        "outputId": "a83f5b5e-0bc8-42c5-cdd5-ffb3c66a349b"
      },
      "execution_count": 23,
      "outputs": [
        {
          "output_type": "stream",
          "name": "stdout",
          "text": [
            "Honda City is Starting\n"
          ]
        }
      ]
    },
    {
      "cell_type": "markdown",
      "source": [
        "\n",
        "#Question 7.\n",
        " Create a base class called \"Employee\" with attributes like \"name\" and \"salary.\"\n",
        "Derive two classes, \"Manager\" and \"Developer,\" from \"Employee.\" Add an additional\n",
        "attribute called \"department\" for the \"Manager\" class and \"programming_language\"\n",
        "for the \"Developer\" class."
      ],
      "metadata": {
        "id": "uZizoAlE2JMR"
      }
    },
    {
      "cell_type": "code",
      "source": [
        "class Employee:\n",
        "  def __init__(self, name, salary):\n",
        "    self.name = name\n",
        "    self.salary = salary\n",
        "\n",
        "\n",
        "class Manager(Employee):\n",
        "  def __init__(self, name, salary, department):\n",
        "    super().__init__(name, salary)\n",
        "    self.department = department\n",
        "\n",
        "class Developer(Employee):\n",
        "  def __init__(self, name, salary, programming_lang):\n",
        "    super().__init__(name, salary)\n",
        "    self.programming_language = programming_lang\n",
        ""
      ],
      "metadata": {
        "id": "wBpXCvy0124G"
      },
      "execution_count": 27,
      "outputs": []
    },
    {
      "cell_type": "code",
      "source": [
        "m1 = Manager(\"Ravi\", 200, \"Finance\")"
      ],
      "metadata": {
        "id": "YJ8vF_tM5Kmc"
      },
      "execution_count": 28,
      "outputs": []
    },
    {
      "cell_type": "code",
      "source": [
        "d1 = Developer(\"Kiran\", 150, \"Database\")"
      ],
      "metadata": {
        "id": "iXAc8THR6IUo"
      },
      "execution_count": 29,
      "outputs": []
    },
    {
      "cell_type": "markdown",
      "source": [
        "#Question 8.\n",
        "Design a base class called \"Shape\" with attributes like \"colour\" and \"border_width.\"\n",
        "Create derived classes, \"Rectangle\" and \"Circle,\" that inherit from \"Shape\" and add\n",
        "specific attributes like \"length\" and \"width\" for the \"Rectangle\" class and \"radius\" for\n",
        "the \"Circle\" class."
      ],
      "metadata": {
        "id": "3t7cv87D6mli"
      }
    },
    {
      "cell_type": "code",
      "source": [
        "class Shape:\n",
        "  def __init__(self, colour, border_width):\n",
        "    self.colour = colour\n",
        "    self.border_width = border_width\n",
        "\n",
        "class Rectangle(Shape):\n",
        "  def __init__(self, colour, border_width, length, width):\n",
        "    super().__init__(colour, border_width)\n",
        "    self.length = length\n",
        "    self.width = width\n",
        "\n",
        "class Circle(Shape):\n",
        "  def __init__(self, colour, border_width, radius):\n",
        "    super().__init__(colour, border_width)\n",
        "    self.radius = radius"
      ],
      "metadata": {
        "id": "_ol1zn2p6f2A"
      },
      "execution_count": 30,
      "outputs": []
    },
    {
      "cell_type": "code",
      "source": [
        "cir1 = Circle(\"Yellow\", 5, 30)"
      ],
      "metadata": {
        "id": "GGO5zZBV9CsR"
      },
      "execution_count": 31,
      "outputs": []
    },
    {
      "cell_type": "code",
      "source": [
        "r1 = Rectangle(\"Blue\", 2, 30, 40)"
      ],
      "metadata": {
        "id": "4bK-EBSv9gKx"
      },
      "execution_count": 32,
      "outputs": []
    },
    {
      "cell_type": "markdown",
      "source": [
        "#Question 9.\n",
        "Create a base class called \"Device\" with attributes like \"brand\" and \"model.\" Derive\n",
        "two classes, \"Phone\" and \"Tablet,\" from \"Device.\" Add specific attributes like\n",
        "\"screen_size\" for the \"Phone\" class and \"battery_capacity\" for the \"Tablet\" class."
      ],
      "metadata": {
        "id": "DP7smQkf92s-"
      }
    },
    {
      "cell_type": "code",
      "source": [
        "class Device:\n",
        "  def __init__(self, brand, model):\n",
        "    self.brand = brand\n",
        "    self.model = model\n",
        "\n",
        "class Phone(Device):\n",
        "  def __init__(self, brand, model, screen_size):\n",
        "    super().__init__(brand, model)\n",
        "    self.screen_size = screen_size\n",
        "\n",
        "class Tablet(Device):\n",
        "  def __init__(self, brand, model, battery_capacity):\n",
        "    super().__init__( brand, model )\n",
        "    self.battery_capacity = battery_capacity"
      ],
      "metadata": {
        "id": "UHcxMkzZ9sDZ"
      },
      "execution_count": 1,
      "outputs": []
    },
    {
      "cell_type": "code",
      "source": [
        "phone1 = Phone(\"Vivo\", \"Z1 Pro\", \"6 inches\")\n",
        "print(phone1.brand)\n",
        "print(phone1.model)\n",
        "print(phone1.screen_size)\n",
        "\n",
        "print()\n",
        "\n",
        "tab1 = Tablet(\"Samsung\", \"S9\", \"10000\")\n",
        "print(tab1.brand)\n",
        "print(tab1.model)\n",
        "print(tab1.battery_capacity)"
      ],
      "metadata": {
        "colab": {
          "base_uri": "https://localhost:8080/"
        },
        "id": "6F2qpLqypuP6",
        "outputId": "9f3d5e32-1fb2-4179-e624-ce3057e658b3"
      },
      "execution_count": 5,
      "outputs": [
        {
          "output_type": "stream",
          "name": "stdout",
          "text": [
            "Vivo\n",
            "Z1 Pro\n",
            "6 inches\n",
            "\n",
            "Samsung\n",
            "S9\n",
            "10000\n"
          ]
        }
      ]
    },
    {
      "cell_type": "markdown",
      "source": [
        "#Question 10.\n",
        "Create a base class called \"BankAccount\" with attributes like \"account_number\" and\n",
        "\"balance.\" Derive two classes, \"SavingsAccount\" and \"CheckingAccount,\" from\n",
        "\"BankAccount.\" Add specific methods like \"calculate_interest\" for the\n",
        "\"SavingsAccount\" class and \"deduct_fees\" for the \"CheckingAccount\" class.\n",
        "\n"
      ],
      "metadata": {
        "id": "MB18qU-1rCfd"
      }
    },
    {
      "cell_type": "code",
      "source": [
        "class BankAccount:\n",
        "  def __init__(self, a_n, b):\n",
        "    self.account_number = a_n\n",
        "    self.balance = b\n",
        "\n",
        "\n",
        "class SavingsAccount(BankAccount):\n",
        "  def __init__(self, a_n, b):\n",
        "    super().__init__(a_n, b)\n",
        "\n",
        "  __rate = 12 #12%\n",
        "  def calculate_interest(self, principal_amount, time):\n",
        "    interest = (principal_amount * time * self.__rate)/ 100\n",
        "    return interest\n",
        "\n",
        "\n",
        "class CheckingAccount(BankAccount):\n",
        "  def __init__(self, a_n, b):\n",
        "    super().__init__(a_n, b)\n",
        "\n",
        "  __fees = 500\n",
        "  def deduct_fees(self):\n",
        "   if self.balance >= self.__fees:\n",
        "    self.balance = self.balance - self.__fees\n",
        "    return self.balance\n",
        "   else: return f\"Insufficient Funds\""
      ],
      "metadata": {
        "id": "QaB2rS2rqznA"
      },
      "execution_count": 13,
      "outputs": []
    },
    {
      "cell_type": "code",
      "source": [
        "c5 = CheckingAccount(245,1000)"
      ],
      "metadata": {
        "id": "A01-FGItuZLr"
      },
      "execution_count": 14,
      "outputs": []
    },
    {
      "cell_type": "code",
      "source": [
        "c5.deduct_fees()"
      ],
      "metadata": {
        "colab": {
          "base_uri": "https://localhost:8080/"
        },
        "id": "gSSvFB7_upqh",
        "outputId": "c2a511ea-886e-4d15-9500-9470c328bf5e"
      },
      "execution_count": 15,
      "outputs": [
        {
          "output_type": "execute_result",
          "data": {
            "text/plain": [
              "500"
            ]
          },
          "metadata": {},
          "execution_count": 15
        }
      ]
    },
    {
      "cell_type": "code",
      "source": [
        "s5= SavingsAccount(222, 2000)"
      ],
      "metadata": {
        "id": "QQpa0SUKu4eh"
      },
      "execution_count": 16,
      "outputs": []
    },
    {
      "cell_type": "code",
      "source": [
        "s5.calculate_interest(1000, 2)"
      ],
      "metadata": {
        "colab": {
          "base_uri": "https://localhost:8080/"
        },
        "id": "ku-o7cVGve4N",
        "outputId": "f9b98a37-3f39-4a92-874d-2cdeaa59328a"
      },
      "execution_count": 17,
      "outputs": [
        {
          "output_type": "execute_result",
          "data": {
            "text/plain": [
              "240.0"
            ]
          },
          "metadata": {},
          "execution_count": 17
        }
      ]
    }
  ]
}